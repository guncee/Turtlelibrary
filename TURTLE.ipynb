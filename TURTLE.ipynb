{
 "cells": [
  {
   "cell_type": "code",
   "execution_count": 1,
   "metadata": {},
   "outputs": [],
   "source": [
    "# turtle kütüphanesi\n",
    "import turtle"
   ]
  },
  {
   "cell_type": "code",
   "execution_count": 2,
   "metadata": {},
   "outputs": [],
   "source": [
    "# turtle ekranının açılması\n",
    "s=turtle.getscreen()"
   ]
  },
  {
   "cell_type": "code",
   "execution_count": 3,
   "metadata": {},
   "outputs": [],
   "source": [
    "# kaplumbağanın isminin belirlenmesi\n",
    "t=turtle.Turtle()"
   ]
  },
  {
   "cell_type": "code",
   "execution_count": 4,
   "metadata": {},
   "outputs": [],
   "source": [
    "# sağa sola 100 birim ilerle!\n",
    "t.right(90)\n",
    "t.forward(100)\n",
    "t.left(90)\n",
    "t.backward(100)"
   ]
  },
  {
   "cell_type": "code",
   "execution_count": 5,
   "metadata": {},
   "outputs": [],
   "source": [
    "# Belirttiğim koordinata ilerle!\n",
    "\n",
    "t.goto(100,100)"
   ]
  },
  {
   "cell_type": "code",
   "execution_count": 6,
   "metadata": {},
   "outputs": [],
   "source": [
    "# Eve dön!\n",
    "\n",
    "t.home()"
   ]
  },
  {
   "cell_type": "code",
   "execution_count": 7,
   "metadata": {},
   "outputs": [],
   "source": [
    "# Kare çiz\n",
    "\n",
    "t.fd(100) #  t.forward()\n",
    "t.rt(90)  #  t.right()\n",
    "t.fd(100)  \n",
    "t.rt(90)\n",
    "t.fd(100)\n",
    "t.rt(90)\n",
    "t.fd(100)"
   ]
  },
  {
   "cell_type": "code",
   "execution_count": 8,
   "metadata": {},
   "outputs": [],
   "source": [
    "# Üçgen çiz.\n",
    "t.goto(100,-100)\n",
    "t.goto(100,100)\n",
    "t.home()"
   ]
  },
  {
   "cell_type": "code",
   "execution_count": 9,
   "metadata": {},
   "outputs": [],
   "source": [
    "# yuvarlak çiz\n",
    "t.circle(20)"
   ]
  },
  {
   "cell_type": "code",
   "execution_count": 10,
   "metadata": {},
   "outputs": [],
   "source": [
    "#daire çiz.\n",
    "\n",
    "t.dot(50)"
   ]
  },
  {
   "cell_type": "code",
   "execution_count": 11,
   "metadata": {},
   "outputs": [],
   "source": [
    "# arka plan rengini değiştir.\n",
    "\n",
    "turtle.bgcolor(\"grey\")"
   ]
  },
  {
   "cell_type": "code",
   "execution_count": 12,
   "metadata": {},
   "outputs": [],
   "source": [
    "# Kaplumbağa ekranının başlığını değiştirme\n",
    "\n",
    "turtle.title(\"Benim Kağlumbağam\")"
   ]
  },
  {
   "cell_type": "code",
   "execution_count": 13,
   "metadata": {},
   "outputs": [],
   "source": [
    "#Kaplumbağa boyutu\n",
    "\n",
    "t.shapesize(5,10,20)"
   ]
  },
  {
   "cell_type": "code",
   "execution_count": 14,
   "metadata": {},
   "outputs": [],
   "source": [
    "# Kalem boyutu\n",
    "\n",
    "t.pensize(1)\n",
    "t.forward(100)"
   ]
  },
  {
   "cell_type": "code",
   "execution_count": 15,
   "metadata": {},
   "outputs": [],
   "source": [
    "# Kaplumbağa Rengi\n",
    "t.shapesize(10,10,2)\n",
    "t.fillcolor(\"green\")"
   ]
  },
  {
   "cell_type": "code",
   "execution_count": 16,
   "metadata": {},
   "outputs": [],
   "source": [
    "# Dış rengi de pembe olsun\n",
    "t.shapesize(10,10,6)\n",
    "t.color(\"pink\", \"green\")"
   ]
  },
  {
   "cell_type": "code",
   "execution_count": 17,
   "metadata": {},
   "outputs": [],
   "source": [
    "# eşkenar üçgen boyama\n",
    "\n",
    "t.begin_fill()\n",
    "t.fd(100)\n",
    "t.lt(120)\n",
    "t.fd(100)\n",
    "t.lt(120)\n",
    "t.fd(100)\n",
    "t.end_fill()"
   ]
  },
  {
   "cell_type": "code",
   "execution_count": 18,
   "metadata": {},
   "outputs": [],
   "source": [
    "# kaplumbağanın şeklini değiştirme\n",
    "\n",
    "t.shape(\"arrow\")\n",
    "t.shape(\"turtle\")"
   ]
  },
  {
   "cell_type": "code",
   "execution_count": 19,
   "metadata": {},
   "outputs": [],
   "source": [
    "t.pencolor(\"orange\")  # kalem rengi turuncu\n",
    "t.fillcolor(\"yellow\")  # içini sarı ile doldur\n",
    "t.pensize(10)   # kalem kalınlığı 10 birim olsun\n",
    "t.speed(9)  # kalem hızı 9 olsun\n",
    "t.begin_fill()  # doldurmaya başla\n",
    "t.circle(90)  # yuvarlak çiz\n",
    "t.end_fill()  # doldurmayı bitir"
   ]
  },
  {
   "cell_type": "code",
   "execution_count": 20,
   "metadata": {},
   "outputs": [],
   "source": [
    "# Çok kaplumbağa varsa, iş kolaylaştırır.\n",
    "\n",
    "t.pen(pencolor=\"purple\", fillcolor=\"orange\", pensize=10, speed=9)\n",
    "t.begin_fill()\n",
    "t.circle(90)\n",
    "t.end_fill()"
   ]
  },
  {
   "cell_type": "code",
   "execution_count": 21,
   "metadata": {},
   "outputs": [],
   "source": [
    "# kaplumbağa iz bırakmasın\n",
    "\n",
    "t.pen(pencolor=\"purple\", fillcolor=\"pink\", pensize=10, speed=9)\n",
    "t.begin_fill()\n",
    "t.fd(100)\n",
    "t.rt(90)\n",
    "t.penup()\n",
    "t.fd(100)\n",
    "t.rt(90)\n",
    "t.pendown()\n",
    "t.fd(100)\n",
    "t.rt(90)\n",
    "t.penup()\n",
    "t.fd(100)\n",
    "t.pendown()\n",
    "t.end_fill()"
   ]
  },
  {
   "cell_type": "code",
   "execution_count": 22,
   "metadata": {},
   "outputs": [],
   "source": [
    "# kaplumbağanın yaptıklarını temizler.\n",
    "t.clear()"
   ]
  },
  {
   "cell_type": "code",
   "execution_count": 23,
   "metadata": {},
   "outputs": [],
   "source": [
    "# çevreyi resetler.\n",
    "t.reset()"
   ]
  },
  {
   "cell_type": "code",
   "execution_count": 24,
   "metadata": {},
   "outputs": [],
   "source": [
    "# damga bırakma\n",
    "t.stamp()\n",
    "t.fd(100)\n",
    "t.stamp()\n",
    "t.fd(50)"
   ]
  },
  {
   "cell_type": "code",
   "execution_count": 25,
   "metadata": {},
   "outputs": [],
   "source": [
    "# kaplumbağa klonlama\n",
    "\n",
    "c = t.clone()\n",
    "t.color(\"magenta\")\n",
    "c.color(\"red\")\n",
    "t.circle(100)\n",
    "c.circle(60)"
   ]
  },
  {
   "cell_type": "code",
   "execution_count": 26,
   "metadata": {},
   "outputs": [],
   "source": [
    "# for döngüsü ile kare\n",
    "\n",
    "for i in range(4):\n",
    "    t.fd(100)\n",
    "    t.rt(90)"
   ]
  },
  {
   "cell_type": "code",
   "execution_count": 27,
   "metadata": {},
   "outputs": [],
   "source": [
    "# while döngüsü ile iç içe çemberler\n",
    "\n",
    "n=10\n",
    "while n<60:\n",
    "    t.circle(n)\n",
    "    n=n+10"
   ]
  },
  {
   "cell_type": "code",
   "execution_count": 28,
   "metadata": {},
   "outputs": [
    {
     "name": "stdout",
     "output_type": "stream",
     "text": [
      "Yuvarlak çizmek ister misin? evet ya da hayır yaz: evet\n"
     ]
    }
   ],
   "source": [
    "# if\n",
    "\n",
    "u = input(\"Yuvarlak çizmek ister misin? evet ya da hayır yaz: \")\n",
    "if u == \"evet\":\n",
    "    t.circle(50)"
   ]
  },
  {
   "cell_type": "code",
   "execution_count": 29,
   "metadata": {},
   "outputs": [
    {
     "name": "stdout",
     "output_type": "stream",
     "text": [
      "Yuvarlak çizmek ister misin? evet ya da hayır yaz: \n",
      "Keyfin bilir!\n"
     ]
    }
   ],
   "source": [
    "# if else\n",
    "u = input(\"Yuvarlak çizmek ister misin? evet ya da hayır yaz: \")\n",
    "if u == \"evet\":\n",
    "    t.circle(50)\n",
    "else :\n",
    "    print(\"Keyfin bilir!\")"
   ]
  },
  {
   "cell_type": "code",
   "execution_count": 30,
   "metadata": {},
   "outputs": [
    {
     "name": "stdout",
     "output_type": "stream",
     "text": [
      "Yuvarlak çizmek ister misin? evet ya da hayır yaz: \n",
      "Geçersiz cevap\n"
     ]
    }
   ],
   "source": [
    "# if-elif-else\n",
    "\n",
    "u = input(\"Yuvarlak çizmek ister misin? evet ya da hayır yaz: \")\n",
    "if u == \"evet\":\n",
    "    t.circle(50)\n",
    "elif u == \"hayır\":\n",
    "    print(\"Peki, kendine iyi bak\")\n",
    "else:\n",
    "        print(\"Geçersiz cevap\")"
   ]
  },
  {
   "cell_type": "code",
   "execution_count": null,
   "metadata": {},
   "outputs": [],
   "source": []
  },
  {
   "cell_type": "code",
   "execution_count": 1,
   "metadata": {},
   "outputs": [],
   "source": [
    "# turtle kütüphanesi\n",
    "import turtle"
   ]
  },
  {
   "cell_type": "code",
   "execution_count": 2,
   "metadata": {},
   "outputs": [],
   "source": [
    "#1.kaplumbağa: yeşil\n",
    "player_one = turtle.Turtle()\n",
    "player_one.color(\"green\")\n",
    "player_one.shape(\"turtle\")\n",
    "player_one.shapesize(2,2,1)\n",
    "player_one.penup()\n",
    "player_one.goto(-200,100)\n"
   ]
  },
  {
   "cell_type": "code",
   "execution_count": 3,
   "metadata": {},
   "outputs": [],
   "source": [
    "#2.kaplumbağa: kırmızı\n",
    "player_two = player_one.clone()\n",
    "player_two.color(\"red\")\n",
    "player_one.shapesize(2,2,1)\n",
    "player_two.penup()\n",
    "player_two.goto(-200,-100)"
   ]
  },
  {
   "cell_type": "code",
   "execution_count": 4,
   "metadata": {},
   "outputs": [],
   "source": [
    "#1.kaplumbağa evi\n",
    "player_one.goto(200,-20)\n",
    "player_one.pendown()\n",
    "player_one.circle(30)\n",
    "player_one.penup()\n",
    "player_one.goto(-200,0)"
   ]
  },
  {
   "cell_type": "code",
   "execution_count": 5,
   "metadata": {},
   "outputs": [],
   "source": [
    "#2.kaplumbağa evi\n",
    "player_two.goto(200,-200)\n",
    "player_two.pendown()\n",
    "player_two.circle(30)\n",
    "player_two.penup()\n",
    "player_two.goto(-200,-170)"
   ]
  },
  {
   "cell_type": "code",
   "execution_count": null,
   "metadata": {},
   "outputs": [],
   "source": [
    "import random\n",
    "die=[1,2,3,4,5,6]\n",
    "\n",
    "if player_one.pos()>= (200,-20):\n",
    "    print(\"Yeşil Kaplumbağa Kazandı!!!!!!!!!\")\n",
    "elif  player_two.pos()>= (200,-200):\n",
    "    print(\"Kırmızı Kaplumbağa Kazandı!!!!!!!!!!\")\n",
    "else:\n",
    "    player_one_turn=input(\"Player one, please 'Enter' to roll the die\")\n",
    "    result=random.choice(die)\n",
    "    print(\"The result is:\", result)\n",
    "    print(\"The number of steps:\", result*10)\n",
    "    player_one.fd(result*10)\n",
    "    "
   ]
  },
  {
   "cell_type": "code",
   "execution_count": null,
   "metadata": {},
   "outputs": [],
   "source": []
  },
  {
   "cell_type": "code",
   "execution_count": 37,
   "metadata": {},
   "outputs": [
    {
     "ename": "IndentationError",
     "evalue": "unindent does not match any outer indentation level (<tokenize>, line 10)",
     "output_type": "error",
     "traceback": [
      "\u001b[1;36m  File \u001b[1;32m\"<tokenize>\"\u001b[1;36m, line \u001b[1;32m10\u001b[0m\n\u001b[1;33m    die_outcome = random.choice(die)\u001b[0m\n\u001b[1;37m    ^\u001b[0m\n\u001b[1;31mIndentationError\u001b[0m\u001b[1;31m:\u001b[0m unindent does not match any outer indentation level\n"
     ]
    }
   ],
   "source": [
    "for i in range(20):\n",
    "    if player_one.pos() >= (300,100):\n",
    "           print(\"Player One Wins!\")\n",
    "             break\n",
    "    elif player_two.pos() >= (300,-100):\n",
    "           print(\"Player Two Wins!\")\n",
    "            break\n",
    "    else:\n",
    "             player_one_turn = input(\"Press 'Enter' to roll the die \")\n",
    "            die_outcome = random.choice(die)\n",
    "            print(\"The result of the die roll is: \")\n",
    "             print(die_outcome)\n",
    "            print(\"The number of steps will be: \")\n",
    "            print(20*die_outcome)\n",
    "            player_one.fd(20*die_outcome)\n",
    "             player_two_turn = input(\"Press 'Enter' to roll the die \")\n",
    "            d = random.choice(die)\n",
    "            print(\"The result of the die roll is: \")\n",
    "             print(die_outcome)\n",
    "            print(\"The number of steps will be: \")\n",
    "            print(20*die_outcome)\n",
    "            player_two.fd(20*die_outcome)"
   ]
  },
  {
   "cell_type": "code",
   "execution_count": null,
   "metadata": {},
   "outputs": [],
   "source": []
  },
  {
   "cell_type": "code",
   "execution_count": null,
   "metadata": {},
   "outputs": [],
   "source": [
    "t.pen(pencolor=\"purple\", fillcolor=\"pink\", pensize=10, speed=9)"
   ]
  },
  {
   "cell_type": "code",
   "execution_count": null,
   "metadata": {},
   "outputs": [],
   "source": []
  }
 ],
 "metadata": {
  "kernelspec": {
   "display_name": "Python 3",
   "language": "python",
   "name": "python3"
  },
  "language_info": {
   "codemirror_mode": {
    "name": "ipython",
    "version": 3
   },
   "file_extension": ".py",
   "mimetype": "text/x-python",
   "name": "python",
   "nbconvert_exporter": "python",
   "pygments_lexer": "ipython3",
   "version": "3.7.6"
  }
 },
 "nbformat": 4,
 "nbformat_minor": 4
}
